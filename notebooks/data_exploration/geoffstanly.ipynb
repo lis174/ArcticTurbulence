{
 "cells": [
  {
   "cell_type": "code",
   "execution_count": 1,
   "metadata": {},
   "outputs": [
    {
     "data": {
      "text/plain": [
       "'\\n# Note, more complex examples may have the water column adjacency specified by\\n# a graph structure, represented as a (sparse) matrix.  For example (with a\\n# dense matrix here given the smallness of this example), suppose we have two\\n# graphs, each with the same sparsity structure, one storing the distances\\n# between adjacent water columns and the other storing the length of the\\n# interfaces between adjacent water columns.\\ngraph_dist = np.zeros((nc, nc))\\ngraph_dist[0, :] = [0.0, 1.0, 1.4, 0.0]\\ngraph_dist[1, :] = [1.0, 0.0, 1.0, 0.0]\\ngraph_dist[2, :] = [1.4, 1.0, 0.0, 2.0]\\ngraph_dist[3, :] = [0.0, 0.0, 2.0, 0.0]\\ngraph_dist *= 1e5\\ngraph_distperp = np.sign(graph_dist) * 1e5\\n# To convert these graphs into the format for the `grid` argument to\\n# neutralocean functions, simply call:\\nfrom neutralocean.grid.graph import build_grid\\ngrid = build_grid({\"dist\": graph_dist, \"distperp\": graph_distperp})\\n'"
      ]
     },
     "execution_count": 1,
     "metadata": {},
     "output_type": "execute_result"
    }
   ],
   "source": [
    "import numpy as np\n",
    "\n",
    "from neutralocean.surface import potential_surf, anomaly_surf, omega_surf\n",
    "from neutralocean.eos import make_eos_s_t\n",
    "from neutralocean.ntp import ntp_epsilon_errors\n",
    "\n",
    "# In[Create an ocean of 4 water columns]\n",
    "\n",
    "# Make up simple Salt, Temperature, and Pressure data for 4 casts\n",
    "nc = 4  # Number of casts (water columns)\n",
    "nk = 20  # Number of grid points per cast\n",
    "pbot = 4000.0  # Pressure at bottom grid point\n",
    "\n",
    "P = np.linspace(0, 1, nk) ** 3 * pbot  # pressure increasing cubicly going down\n",
    "\n",
    "S = np.linspace(34, 36, nk).reshape((1, -1))  # saltier going down\n",
    "S = S + np.linspace(0, 0.9, nc).reshape((-1, 1))  # some lateral structure\n",
    "\n",
    "T = np.linspace(14, -2, nk).reshape((1, -1))  # warmer going down\n",
    "T = T + np.linspace(0, 6, nc).reshape((-1, 1))  # some lateral structure\n",
    "\n",
    "# Arrange the 4 casts (labelled 0, 1, 2, 3) with connections as follows:\n",
    "# 0\n",
    "# | \\\n",
    "# 1--2--3\n",
    "# That is, cast 0 is connected to casts 1 and 2; cast 1 is connected to casts 0\n",
    "# and 2; cast 2 is conncted to all casts; cast 3 is connected only to cast 2.\n",
    "a = np.array([0, 0, 1, 2])  # a[i] and b[i] are a pair of adjacent casts\n",
    "b = np.array([1, 2, 2, 3])\n",
    "edges = (a, b)\n",
    "\n",
    "# Invent distances `dist` between pairs of casts, roughly 100km\n",
    "dist = np.array([1, 1.4, 1, 1]) * 1e5  # Units: [m]\n",
    "\n",
    "# Invent distances `distperp` of the interfaces between pairs of casts.\n",
    "# The product of `dist` and `distperp` gives an area associated to the region\n",
    "# between casts, which is where the ϵ neutrality errors live. We seek to minimize\n",
    "# these ϵ neutrality errors, weighted by these areas.\n",
    "distperp = np.array([1, 1, 1, 1]) * 1e5  # Units: [m]\n",
    "\n",
    "# Package the grid information into a dict, for neutralocean.\n",
    "grid = {\"edges\": edges, \"dist\": dist, \"distperp\": distperp}\n",
    "\n",
    "\"\"\"\n",
    "# Note, more complex examples may have the water column adjacency specified by\n",
    "# a graph structure, represented as a (sparse) matrix.  For example (with a\n",
    "# dense matrix here given the smallness of this example), suppose we have two\n",
    "# graphs, each with the same sparsity structure, one storing the distances\n",
    "# between adjacent water columns and the other storing the length of the\n",
    "# interfaces between adjacent water columns.\n",
    "graph_dist = np.zeros((nc, nc))\n",
    "graph_dist[0, :] = [0.0, 1.0, 1.4, 0.0]\n",
    "graph_dist[1, :] = [1.0, 0.0, 1.0, 0.0]\n",
    "graph_dist[2, :] = [1.4, 1.0, 0.0, 2.0]\n",
    "graph_dist[3, :] = [0.0, 0.0, 2.0, 0.0]\n",
    "graph_dist *= 1e5\n",
    "graph_distperp = np.sign(graph_dist) * 1e5\n",
    "# To convert these graphs into the format for the `grid` argument to\n",
    "# neutralocean functions, simply call:\n",
    "from neutralocean.grid.graph import build_grid\n",
    "grid = build_grid({\"dist\": graph_dist, \"distperp\": graph_distperp})\n",
    "\"\"\""
   ]
  },
  {
   "cell_type": "code",
   "execution_count": 2,
   "metadata": {},
   "outputs": [
    {
     "data": {
      "text/plain": [
       "{'edges': (array([0, 0, 1, 2]), array([1, 2, 2, 3])),\n",
       " 'dist': array([100000., 140000., 100000., 100000.]),\n",
       " 'distperp': array([100000., 100000., 100000., 100000.])}"
      ]
     },
     "execution_count": 2,
     "metadata": {},
     "output_type": "execute_result"
    }
   ],
   "source": [
    "grid"
   ]
  },
  {
   "cell_type": "code",
   "execution_count": 3,
   "metadata": {},
   "outputs": [
    {
     "name": "stdout",
     "output_type": "stream",
     "text": [
      "potential done |           4 wet casts | RMS(ϵ) = 2.95366114e-13  | 2.733 sec\n",
      " ** The potential specific volume surface (referenced to 0.0dbar) with isovalue = 0.0009732360097323601 m3 kg-1 has root-mean-square ϵ neutrality error 2.953661135576716e-13 m2 kg-1.\n",
      "anomaly done |           4 wet casts | RMS(ϵ) = 1.21998943e-13  | 1.599 sec\n",
      " ** The in-situ specific volume anomaly surface (referenced to (34.5, 4.0)) with isovalue = 0.0 m3 kg-1 has root-mean-square ϵ neutrality error 1.2199894286212603e-13 m2 kg-1.\n",
      "iter |    MAV(ϕ)     |    RMS(Δp)      | # wet casts (# new) |     RMS(ϵ)     | time (s)\n",
      "   0 |                                 |           4         | 7.05305721e-14 | 0.059\n",
      "   1 | 7.62146233e-09 | 1.77640515e+01 |           4 (    0) | 8.48888373e-15 | 2.451\n",
      "   2 | 6.02796769e-10 | 1.44982488e+00 |           4 (    0) | 6.12093753e-15 | 0.001\n",
      "   3 | 4.57931777e-11 | 1.11692359e-01 |           4 (    0) | 6.10611565e-15 | 0.001\n",
      "   4 | 3.38861795e-12 | 8.31849303e-03 |           4 (    0) | 6.10621916e-15 | 0.001\n",
      "   5 | 2.47457692e-13 | 6.09321842e-04 |           4 (    0) | 6.10623327e-15 | 0.001\n",
      "   6 | 1.79561251e-14 | 4.42768237e-05 |           4 (    0) | 6.10623432e-15 | 0.111\n",
      " ** The omega-surface initialized from a potential density surface (referenced to 1500 dbar) intersecting the cast labelled '0' at pressure 1500 bar has root-mean-square ϵ neutrality error 6.1062343244329895e-15 m2 kg-1.\n",
      "The ϵ neutrality errors on the ω-surface are as follows:\n",
      "  From cast 0 to cast 1, ϵ = -6.946406152330754e-15 m2 kg-1\n",
      "  From cast 0 to cast 2, ϵ = 6.9464177373746585e-15 m2 kg-1\n",
      "  From cast 1 to cast 2, ϵ = -6.946399353678772e-15 m2 kg-1\n",
      "  From cast 2 to cast 3, ϵ = 2.4532753952971413e-20 m2 kg-1\n",
      "Note that the connection between casts 2 and 3 has virtually 0 neutrality error.  This is because cast 3 is ONLY connected to cast 2, so this link can be along the (discrete) neutral tangent plane joining cast 2 and 3. The ω-surface finds this.\n"
     ]
    }
   ],
   "source": [
    "# In[Approx Neutral Surfaces]\n",
    "\n",
    "# Here, ν = 1/ρ is the TEOS-10 specific volume,\n",
    "#       S is Absolute Salinity,\n",
    "#       Θ is Conservative Temperature,\n",
    "#       S is Absolute Salinity,\n",
    "#       p is pressure\n",
    "\n",
    "# Potential specific volume surface, with given reference pressure and given isovalue.\n",
    "# This finds the surface satisfying\n",
    "#   ν(S, Θ, 0 dbar) = (1/1027.5) m3 / kg\n",
    "s, t, p, d = potential_surf(\n",
    "    S,\n",
    "    T,\n",
    "    P,\n",
    "    grid=grid,\n",
    "    eos=\"gsw\",\n",
    "    ref=0.0,\n",
    "    isoval=1 / 1027.5,\n",
    ")\n",
    "print(\n",
    "    f\" ** The potential specific volume surface (referenced to {d['ref']}dbar)\"\n",
    "    f\" with isovalue = {d['isoval']} m3 kg-1\"\n",
    "    f\" has root-mean-square ϵ neutrality error {d['e_RMS']} m2 kg-1.\"\n",
    ")\n",
    "\n",
    "# In-situ specific volume anomaly, with given reference S and Θ values and given isovalue.\n",
    "# This finds the surface satisfying\n",
    "#   ν(S, Θ, p) - ν(34.5 g/kg, 4.0°C, p) = 0 m3 / kg\n",
    "s0, t0 = 34.5, 4.0\n",
    "s, t, p, d = anomaly_surf(\n",
    "    S,\n",
    "    T,\n",
    "    P,\n",
    "    grid=grid,\n",
    "    eos=\"gsw\",\n",
    "    ref=(s0, t0),\n",
    "    isoval=0.0,\n",
    ")\n",
    "print(\n",
    "    f\" ** The in-situ specific volume anomaly surface (referenced to {d['ref']})\"\n",
    "    f\" with isovalue = {d['isoval']} m3 kg-1\"\n",
    "    f\" has root-mean-square ϵ neutrality error {d['e_RMS']} m2 kg-1.\"\n",
    ")\n",
    "\n",
    "\n",
    "# omega-surface, initialized by a potential density surface, pinning the surface\n",
    "# to be 1500dbar on cast 0.\n",
    "s, t, p, d = omega_surf(S, T, P, grid, pin_cast=0, pin_p=1500.0, eos=\"gsw\")\n",
    "print(\n",
    "    f\" ** The omega-surface\"\n",
    "    f\" initialized from a potential density surface (referenced to 1500 dbar)\"\n",
    "    f\" intersecting the cast labelled '0' at pressure 1500 bar\"\n",
    "    f\" has root-mean-square ϵ neutrality error {d['e_RMS'][-1]} m2 kg-1.\"\n",
    ")\n",
    "\n",
    "# Calculate ϵ neutrality errors on the latest surface, between all pairs of adjacent water columns\n",
    "eos_s_t = make_eos_s_t(\"gsw\")\n",
    "e = ntp_epsilon_errors(s, t, p, grid, eos_s_t)\n",
    "print(\"The ϵ neutrality errors on the ω-surface are as follows:\")\n",
    "for i in range(len(a)):\n",
    "    print(f\"  From cast {a[i]} to cast {b[i]}, ϵ = {e[i]} m2 kg-1\")\n",
    "print(\n",
    "    \"Note that the connection between casts 2 and 3 has virtually 0 neutrality \"\n",
    "    \"error.  This is because cast 3 is ONLY connected to cast 2, so this link \"\n",
    "    \"can be along the (discrete) neutral tangent plane joining cast 2 and 3. \"\n",
    "    \"The ω-surface finds this.\"\n",
    ")\n"
   ]
  }
 ],
 "metadata": {
  "kernelspec": {
   "display_name": "Python 3.10.8 ('gtc')",
   "language": "python",
   "name": "python3"
  },
  "language_info": {
   "codemirror_mode": {
    "name": "ipython",
    "version": 3
   },
   "file_extension": ".py",
   "mimetype": "text/x-python",
   "name": "python",
   "nbconvert_exporter": "python",
   "pygments_lexer": "ipython3",
   "version": "3.10.8"
  },
  "orig_nbformat": 4,
  "vscode": {
   "interpreter": {
    "hash": "2e5b626aaea40ab619dc6757164911a8804e7edc5ad4b11453f28dfc67531fa0"
   }
  }
 },
 "nbformat": 4,
 "nbformat_minor": 2
}
