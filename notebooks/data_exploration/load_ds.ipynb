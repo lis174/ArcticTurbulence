{
 "cells": [
  {
   "cell_type": "code",
   "execution_count": 1,
   "metadata": {},
   "outputs": [],
   "source": [
    "import netCDF4 as nc\n",
    "from netCDF4 import Dataset\n",
    "import xarray as xr\n",
    "import pandas as pd\n",
    "import numpy as np\n",
    "import matplotlib.pyplot as plt\n",
    "# gsw oceanic toolbox: http://www.teos-10.org/pubs/Getting_Started.pdf\n",
    "import gsw\n",
    "from scipy.io import loadmat\n",
    "import cartopy.crs as ccrs\n",
    "import cartopy.feature as cfeature\n",
    "import matplotlib.pyplot as plt\n",
    "\n",
    "import tqdm\n",
    "import sys\n",
    "import os\n",
    "sys.path.append('../..')\n",
    "from src.features.processing_func import mld\n",
    "from src.features.processing_func import check_coords, calc_N2_kappa, calc_hab, arctic_calchab, calc_N2_kappa_sorted, mld\n",
    "from src.features.calc_seaice import calc_SIC\n",
    "from src.utils.directories import get_parent_directory\n",
    "from src.features.feature_generation import processing_functions\n",
    "\n",
    "import warnings\n",
    "warnings.filterwarnings(\"ignore\", category=RuntimeWarning)"
   ]
  },
  {
   "cell_type": "code",
   "execution_count": 3,
   "metadata": {},
   "outputs": [],
   "source": [
    "parent_dir = get_parent_directory()"
   ]
  },
  {
   "cell_type": "code",
   "execution_count": 23,
   "metadata": {},
   "outputs": [],
   "source": [
    "arctic_mix = os.path.join(parent_dir, \"data/interim/arctic_mix.nc\")\n",
    "asbo_nc = os.path.join(parent_dir, \"data/interim/ASBO-TEACOSI_ds.nc\")\n",
    "mosaic_nc = os.path.join(parent_dir, \"data/interim/mosaic_ds.nc\")\n",
    "nice_nc = os.path.join(parent_dir, \"data/interim/nice_ds.nc\")\n",
    "HM_nc = os.path.join(parent_dir, \"data/interim/HM_ds.nc\")\n",
    "barneo2007_nc = os.path.join(parent_dir, \"data/interim/barneo2007_ds.nc\")\n",
    "barneo2008_nc = os.path.join(parent_dir, \"data/interim/barneo2008_ds.nc\")\n",
    "KB2018616_nc = os.path.join(parent_dir, \"data/interim/KB2018616.nc\")\n",
    "KH2018709_nc = os.path.join(parent_dir, \"data/interim/KH2018709.nc\")\n",
    "ascos_nc = os.path.join(parent_dir, \"data/interim/ascos_ds.nc\")\n",
    "\n",
    "arctic_ds = xr.open_dataset(arctic_mix)\n",
    "asbo_ds = xr.open_dataset(asbo_nc)\n",
    "mosaic_ds = xr.open_dataset(mosaic_nc)\n",
    "nice_ds = xr.open_dataset(nice_nc)\n",
    "HM_ds = xr.open_dataset(HM_nc)\n",
    "barneo2007_ds = xr.open_dataset(barneo2007_nc)\n",
    "barneo2008_ds = xr.open_dataset(barneo2008_nc)\n",
    "KB2018616_ds = xr.open_dataset(KB2018616_nc)\n",
    "KH2018709_ds = xr.open_dataset(KH2018709_nc)\n",
    "ascos_ds = xr.open_dataset(ascos_nc)"
   ]
  },
  {
   "cell_type": "code",
   "execution_count": 24,
   "metadata": {},
   "outputs": [],
   "source": [
    "import xarray as xr\n",
    "arctic_ds = arctic_ds.rename({\"longitude\": \"lon\", \"latitude\": \"lat\"})\n",
    "arctic_ds[\"latitude\"] = arctic_ds.lat\n",
    "arctic_ds[\"longitude\"] = arctic_ds.lon"
   ]
  },
  {
   "cell_type": "code",
   "execution_count": 25,
   "metadata": {},
   "outputs": [],
   "source": [
    "asbo_ds = asbo_ds.rename({\"longitude\": \"lon\", \"latitude\": \"lat\"})\n",
    "asbo_ds[\"latitude\"] = asbo_ds.lat\n",
    "asbo_ds[\"longitude\"] = asbo_ds.lon"
   ]
  },
  {
   "cell_type": "code",
   "execution_count": 34,
   "metadata": {},
   "outputs": [],
   "source": [
    "HM_ds = HM_ds.rename({\"time\": \"time_coor\"})\n",
    "HM_ds[\"time\"] = HM_ds.time_coor"
   ]
  },
  {
   "cell_type": "code",
   "execution_count": 36,
   "metadata": {},
   "outputs": [],
   "source": [
    "asbo_ds = asbo_ds.rename({\"time\": \"time_coor\"})\n",
    "asbo_ds[\"time\"] = asbo_ds.time_coor"
   ]
  },
  {
   "cell_type": "code",
   "execution_count": 26,
   "metadata": {},
   "outputs": [],
   "source": [
    "# Bathymetry dataset\n",
    "GEBCO_ds = os.path.join(parent_dir, \"data/external/GEBCO/gebco_2022_n80.0_s63.0_w-170.0_e-130.0.nc\")\n",
    "bathy_ds = xr.open_dataset(GEBCO_ds)"
   ]
  },
  {
   "cell_type": "code",
   "execution_count": 27,
   "metadata": {},
   "outputs": [],
   "source": [
    "# Sea ice fraction data\n",
    "SI_HadISST = os.path.join(parent_dir, \"data/external/SI-area/HadISST_ice.nc\")\n",
    "Hadi_SI = xr.open_dataset(SI_HadISST)"
   ]
  },
  {
   "cell_type": "markdown",
   "metadata": {},
   "source": [
    "## Add all features and combine all datasets into one dataframe\n",
    "The features and the plots are explained below"
   ]
  },
  {
   "cell_type": "code",
   "execution_count": 28,
   "metadata": {},
   "outputs": [],
   "source": [
    "# add variables of the cruise name\n",
    "arctic_ds[\"cruise\"] = \"ArcticMix\"\n",
    "nice_ds[\"cruise\"] = \"NICE-2015\"\n",
    "mosaic_ds[\"cruise\"] = \"Mosaic\"\n",
    "asbo_ds[\"cruise\"] = \"ASBO\"\n",
    "HM_ds[\"cruise\"] = \"Haakon Mosby\"\n",
    "barneo2007_ds[\"cruise\"] = \"IPY Barneo 2007\"\n",
    "barneo2008_ds[\"cruise\"] = \"IPY Barneo 2008\"\n",
    "KB2018616_ds[\"cruise\"] = \"Nansen Legacy 2018\"\n",
    "KH2018709_ds[\"cruise\"] = \"Nansen Legacy 2019\"\n",
    "ascos_ds[\"cruise\"] = \"ASCOS\""
   ]
  },
  {
   "cell_type": "code",
   "execution_count": 38,
   "metadata": {},
   "outputs": [],
   "source": [
    "selected_columns = [\"depth\", \"profile\", \"cruise\", \"latitude\", \"longitude\", \"S\", \"T\", \"log_eps\", \"log_N2\", \"dTdz\", \"dSdz\", \"hab\", \"Tu\", \"Tu_label\", \"time\", \"Rsubrho\", \"sea_ice_concentration\", \"MLDJ\", \"MLDI\", \"time\"]\n",
    "# selected_columns = [\"depth\", \"profile\", \"latitude\", \"longitude\", \"P\", \"S\", \"T\", \"Tu\", \"kappa\", \"log_N2\", \"log_kappa\", \"log_eps\", \"dTdz\", \"dSdz\", \"eps\", \"cruise\", \"hab\", \"Tu_label\", \"time\"]"
   ]
  },
  {
   "cell_type": "code",
   "execution_count": 30,
   "metadata": {},
   "outputs": [],
   "source": [
    "# Mosaic dataset only includes the log epsilon\n",
    "mosaic_ds[\"log_eps\"] = mosaic_ds[\"eps\"]"
   ]
  },
  {
   "cell_type": "code",
   "execution_count": 31,
   "metadata": {},
   "outputs": [
    {
     "ename": "KeyboardInterrupt",
     "evalue": "",
     "output_type": "error",
     "traceback": [
      "\u001b[0;31m---------------------------------------------------------------------------\u001b[0m",
      "\u001b[0;31mKeyboardInterrupt\u001b[0m                         Traceback (most recent call last)",
      "Cell \u001b[0;32mIn[31], line 1\u001b[0m\n\u001b[0;32m----> 1\u001b[0m nice_ds \u001b[39m=\u001b[39m processing_functions(nice_ds, selected_columns, Hadi_SI, bathy_ds)\n\u001b[1;32m      2\u001b[0m nice_df \u001b[39m=\u001b[39m nice_ds\u001b[39m.\u001b[39mto_dataframe()\u001b[39m.\u001b[39mreset_index()\n\u001b[1;32m      3\u001b[0m nice_df\u001b[39m.\u001b[39mto_pickle(os\u001b[39m.\u001b[39mpath\u001b[39m.\u001b[39mjoin(parent_dir, \u001b[39m\"\u001b[39m\u001b[39mdata/interim/nice_df.pkl\u001b[39m\u001b[39m\"\u001b[39m))\n",
      "File \u001b[0;32m~/Documents/AI4ER/Mres/ArcticTurbulence/notebooks/data_exploration/../../src/features/feature_generation.py:79\u001b[0m, in \u001b[0;36mprocessing_functions\u001b[0;34m(dataset, selected_columns, Hadi_SI, bathy_ds, arctic)\u001b[0m\n\u001b[1;32m     77\u001b[0m dataset \u001b[39m=\u001b[39m calc_N2_kappa_sorted(dataset)\n\u001b[1;32m     78\u001b[0m dataset \u001b[39m=\u001b[39m calc_SIC(dataset, Hadi_SI)\n\u001b[0;32m---> 79\u001b[0m dataset \u001b[39m=\u001b[39m mld(dataset)\n\u001b[1;32m     80\u001b[0m \u001b[39mif\u001b[39;00m arctic \u001b[39mis\u001b[39;00m \u001b[39mTrue\u001b[39;00m:\n\u001b[1;32m     81\u001b[0m     dataset \u001b[39m=\u001b[39m arctic_calchab(dataset, bathy_ds)\n",
      "File \u001b[0;32m~/Documents/AI4ER/Mres/ArcticTurbulence/notebooks/data_exploration/../../src/features/processing_func.py:373\u001b[0m, in \u001b[0;36mmld\u001b[0;34m(dataset, outfile, save_mld, threshold)\u001b[0m\n\u001b[1;32m    369\u001b[0m     data[\u001b[39m\"\u001b[39m\u001b[39mhab\u001b[39m\u001b[39m\"\u001b[39m] \u001b[39m=\u001b[39m data[\u001b[39m\"\u001b[39m\u001b[39mhab\u001b[39m\u001b[39m\"\u001b[39m]\u001b[39m.\u001b[39mwhere(data[\u001b[39m\"\u001b[39m\u001b[39mhab\u001b[39m\u001b[39m\"\u001b[39m] \u001b[39m<\u001b[39m\u001b[39m=\u001b[39m \u001b[39m0\u001b[39m, \u001b[39m0\u001b[39m)\n\u001b[1;32m    370\u001b[0m     \u001b[39mreturn\u001b[39;00m data\n\u001b[0;32m--> 373\u001b[0m \u001b[39mdef\u001b[39;00m \u001b[39mmld\u001b[39m(dataset, outfile\u001b[39m=\u001b[39m\u001b[39mFalse\u001b[39;00m, save_mld\u001b[39m=\u001b[39m\u001b[39mFalse\u001b[39;00m, threshold\u001b[39m=\u001b[39m\u001b[39m0.01\u001b[39m):\n\u001b[1;32m    374\u001b[0m \u001b[39m    \u001b[39m\u001b[39m\"\"\"\u001b[39;00m\n\u001b[1;32m    375\u001b[0m \u001b[39m    out = mld(dataset, outfile, save_mld, threshold)\u001b[39;00m\n\u001b[1;32m    376\u001b[0m \n\u001b[0;32m   (...)\u001b[0m\n\u001b[1;32m    388\u001b[0m \u001b[39m            values\u001b[39;00m\n\u001b[1;32m    389\u001b[0m \u001b[39m    \"\"\"\u001b[39;00m\n\u001b[1;32m    390\u001b[0m     dataset[\u001b[39m\"\u001b[39m\u001b[39mrho\u001b[39m\u001b[39m\"\u001b[39m] \u001b[39m=\u001b[39m gsw\u001b[39m.\u001b[39mrho(dataset[\u001b[39m\"\u001b[39m\u001b[39mS\u001b[39m\u001b[39m\"\u001b[39m], dataset[\u001b[39m\"\u001b[39m\u001b[39mT\u001b[39m\u001b[39m\"\u001b[39m], \u001b[39m0\u001b[39m)\n",
      "\u001b[0;31mKeyboardInterrupt\u001b[0m: "
     ]
    }
   ],
   "source": [
    "nice_ds = processing_functions(nice_ds, selected_columns, Hadi_SI, bathy_ds)\n",
    "nice_df = nice_ds.to_dataframe().reset_index()\n",
    "nice_df.to_pickle(os.path.join(parent_dir, \"data/interim/nice_df.pkl\"))"
   ]
  },
  {
   "cell_type": "code",
   "execution_count": null,
   "metadata": {},
   "outputs": [],
   "source": [
    "mosaic_ds = processing_functions(mosaic_ds, selected_columns, Hadi_SI, bathy_ds)\n",
    "mosaic_df = mosaic_ds.to_dataframe().reset_index()\n",
    "mosaic_df.to_pickle(os.path.join(parent_dir, \"data/interim/mosaic_df.pkl\"))"
   ]
  },
  {
   "cell_type": "code",
   "execution_count": 39,
   "metadata": {},
   "outputs": [],
   "source": [
    "HM_ds = processing_functions(HM_ds, selected_columns, Hadi_SI, bathy_ds)\n",
    "HM_df = HM_ds.to_dataframe().reset_index()\n",
    "HM_df.to_pickle(os.path.join(parent_dir, \"data/interim/HM_df.pkl\"))"
   ]
  },
  {
   "cell_type": "code",
   "execution_count": 40,
   "metadata": {},
   "outputs": [],
   "source": [
    "asbo_ds = processing_functions(asbo_ds, selected_columns, Hadi_SI, bathy_ds)\n",
    "asbo_df = asbo_ds.to_dataframe().reset_index()\n",
    "asbo_df.to_pickle(os.path.join(parent_dir, \"data/interim/asbo_df.pkl\"))"
   ]
  },
  {
   "cell_type": "code",
   "execution_count": 10,
   "metadata": {},
   "outputs": [],
   "source": [
    "barneo2007_ds = processing_functions(barneo2007_ds, selected_columns, Hadi_SI, bathy_ds)\n",
    "barneo2007_df = barneo2007_ds.to_dataframe().reset_index()\n",
    "barneo2007_df.to_pickle(os.path.join(parent_dir, \"data/interim/barneo2007_df.pkl\"))\n",
    "barneo2008_df = processing_functions(barneo2008_ds, selected_columns, Hadi_SI, bathy_ds)\n",
    "barneo2008_df = barneo2008_ds.to_dataframe().reset_index()\n",
    "barneo2008_df.to_pickle(os.path.join(parent_dir, \"data/interim/barneo2008_df.pkl\"))\n",
    "\n",
    "KB2018616_ds = processing_functions(KB2018616_ds, selected_columns, Hadi_SI, bathy_ds)\n",
    "KB2018616_df = KB2018616_ds.to_dataframe().reset_index()\n",
    "KB2018616_df.to_pickle(os.path.join(parent_dir, \"data/interim/KB2018616_df.pkl\"))\n",
    "KH2018709_ds = processing_functions(KH2018709_ds, selected_columns, Hadi_SI, bathy_ds)\n",
    "KH2018709_df = KH2018709_ds.to_dataframe().reset_index()\n",
    "KH2018709_df.to_pickle(os.path.join(parent_dir, \"data/interim/KH2018709_df.pkl\"))"
   ]
  },
  {
   "cell_type": "code",
   "execution_count": 11,
   "metadata": {},
   "outputs": [],
   "source": [
    "ascos_ds = processing_functions(ascos_ds, selected_columns, Hadi_SI, bathy_ds)\n",
    "ascos_df = ascos_ds.to_dataframe().reset_index()\n",
    "ascos_df.to_pickle(os.path.join(parent_dir, \"data/interim/ascos_df.pkl\"))"
   ]
  },
  {
   "cell_type": "code",
   "execution_count": 9,
   "metadata": {},
   "outputs": [],
   "source": [
    "arctic_ds = processing_functions(arctic_ds, selected_columns, Hadi_SI, bathy_ds, True)\n",
    "arctic_df = arctic_ds.to_dataframe().reset_index()\n",
    "arctic_df.to_pickle(os.path.join(parent_dir, \"data/interim/arctic_df.pkl\"))"
   ]
  },
  {
   "cell_type": "markdown",
   "metadata": {},
   "source": [
    "## Open saved dataframes"
   ]
  },
  {
   "cell_type": "code",
   "execution_count": 41,
   "metadata": {},
   "outputs": [],
   "source": [
    "arctic_df = pd.read_pickle(os.path.join(parent_dir, \"data/interim/arctic_df.pkl\")) # no lon and lat\n",
    "nice_df = pd.read_pickle(os.path.join(parent_dir, \"data/interim/nice_df.pkl\"))\n",
    "mosaic_df = pd.read_pickle(os.path.join(parent_dir, \"data/interim/mosaic_df.pkl\"))\n",
    "ascos_df = pd.read_pickle(os.path.join(parent_dir, \"data/interim/ascos_df.pkl\"))\n",
    "asbo_df = pd.read_pickle(os.path.join(parent_dir, \"data/interim/asbo_df.pkl\")) # geen lat en lon\n",
    "HM_df = pd.read_pickle(os.path.join(parent_dir, \"data/interim/HM_df.pkl\"))\n",
    "barneo2007_df = pd.read_pickle(os.path.join(parent_dir, \"data/interim/barneo2007_df.pkl\"))\n",
    "barneo2008_df = pd.read_pickle(os.path.join(parent_dir, \"data/interim/barneo2008_df.pkl\"))\n",
    "KB2018616_df = pd.read_pickle(os.path.join(parent_dir, \"data/interim/KB2018616_df.pkl\"))\n",
    "KH2018709_df = pd.read_pickle(os.path.join(parent_dir, \"data/interim/KH2018709_df.pkl\"))"
   ]
  },
  {
   "cell_type": "code",
   "execution_count": 42,
   "metadata": {},
   "outputs": [],
   "source": [
    "arctic_df.describe()\n",
    "arctic_df[\"sea_ice_concentration\"] = 0"
   ]
  },
  {
   "cell_type": "code",
   "execution_count": 43,
   "metadata": {},
   "outputs": [],
   "source": [
    "combined_df = pd.concat([nice_df,arctic_df, mosaic_df, HM_df, asbo_df, barneo2007_df, barneo2008_df, KB2018616_df, KH2018709_df, ascos_df])\n",
    "combined_nona = combined_df.dropna()\n",
    "combined_nona.to_pickle(os.path.join(parent_dir, \"data/processed/ml_ready/1406_ML.pkl\"))"
   ]
  },
  {
   "cell_type": "code",
   "execution_count": 44,
   "metadata": {},
   "outputs": [],
   "source": [
    "dfs = [nice_df,arctic_df, mosaic_df, HM_df, asbo_df, barneo2007_df, barneo2008_df, KB2018616_df, KH2018709_df, ascos_df]"
   ]
  },
  {
   "cell_type": "code",
   "execution_count": 48,
   "metadata": {},
   "outputs": [],
   "source": [
    "selected_columns = [\"depth\", \"profile\", \"cruise\", \"latitude\", \"longitude\", \"S\", \"T\", \"log_eps\", \"log_N2\", \"dTdz\", \"dSdz\", \"hab\", \"Tu\", \"Tu_label\", \"Rsubrho\", \"sea_ice_concentration\", \"MLDJ\", \"MLDI\"]\n",
    "selected_columns_time = [\"depth\", \"profile\", \"cruise\", \"latitude\", \"longitude\", \"S\", \"T\", \"log_eps\", \"log_N2\", \"dTdz\", \"dSdz\", \"hab\", \"Tu\", \"Tu_label\", \"Rsubrho\", \"sea_ice_concentration\", \"MLDJ\", \"MLDI\", \"time\"]"
   ]
  },
  {
   "cell_type": "code",
   "execution_count": 33,
   "metadata": {},
   "outputs": [],
   "source": [
    "# Select columns from each DataFrame and concatenate them\n",
    "combined_df = pd.concat([df[selected_columns] for df in dfs])\n",
    "combined_nona = combined_df.dropna()\n",
    "combined_nona.to_pickle(os.path.join(parent_dir, \"data/processed/ml_ready/1406_ML.pkl\"))"
   ]
  },
  {
   "cell_type": "code",
   "execution_count": 49,
   "metadata": {},
   "outputs": [],
   "source": [
    "# Select columns from each DataFrame and concatenate them\n",
    "combined_df_time = pd.concat([df[selected_columns_time] for df in dfs])\n",
    "combined_nona_time = combined_df_time.dropna()\n",
    "combined_nona_time.to_pickle(os.path.join(parent_dir, \"data/processed/ml_ready/1906_time.pkl\"))"
   ]
  },
  {
   "cell_type": "code",
   "execution_count": 60,
   "metadata": {},
   "outputs": [
    {
     "data": {
      "text/plain": [
       "['/Users/Lisanne/Documents/AI4ER/Mres/ArcticTurbulence/data/processed/ml_ready/1906_time.pkl']"
      ]
     },
     "execution_count": 60,
     "metadata": {},
     "output_type": "execute_result"
    }
   ],
   "source": [
    "import joblib\n",
    "\n",
    "# Save data using joblib\n",
    "joblib.dump(combined_nona_time, os.path.join(parent_dir, \"data/processed/ml_ready/1906_time.pkl\"))"
   ]
  },
  {
   "cell_type": "code",
   "execution_count": 65,
   "metadata": {},
   "outputs": [],
   "source": [
    "path = os.path.join(parent_dir, \"data/processed/ml_ready/1906_time.pkl\")"
   ]
  },
  {
   "cell_type": "code",
   "execution_count": 67,
   "metadata": {},
   "outputs": [],
   "source": [
    "combined_nona_time.to_pickle(path)"
   ]
  },
  {
   "cell_type": "code",
   "execution_count": 68,
   "metadata": {},
   "outputs": [],
   "source": [
    "hallo = pd.read_pickle(path)"
   ]
  },
  {
   "cell_type": "code",
   "execution_count": 55,
   "metadata": {},
   "outputs": [],
   "source": [
    "# Load data using joblib\n",
    "loaded_data = joblib.load(os.path.join(parent_dir, \"data/processed/ml_ready/1906_time.sav\"))"
   ]
  }
 ],
 "metadata": {
  "kernelspec": {
   "display_name": "Python 3.11.3 ('arcticT')",
   "language": "python",
   "name": "python3"
  },
  "language_info": {
   "codemirror_mode": {
    "name": "ipython",
    "version": 3
   },
   "file_extension": ".py",
   "mimetype": "text/x-python",
   "name": "python",
   "nbconvert_exporter": "python",
   "pygments_lexer": "ipython3",
   "version": "3.11.3"
  },
  "orig_nbformat": 4,
  "vscode": {
   "interpreter": {
    "hash": "8dbe666d3ff0a912f7bf0b5ebf79f120d34d32fb27f825149a704cbc210e489f"
   }
  }
 },
 "nbformat": 4,
 "nbformat_minor": 2
}
