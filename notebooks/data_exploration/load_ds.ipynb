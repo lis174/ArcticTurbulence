{
 "cells": [
  {
   "cell_type": "code",
   "execution_count": 1,
   "metadata": {},
   "outputs": [],
   "source": [
    "import netCDF4 as nc\n",
    "from netCDF4 import Dataset\n",
    "import xarray as xr\n",
    "import pandas as pd\n",
    "import numpy as np\n",
    "import matplotlib.pyplot as plt\n",
    "# gsw oceanic toolbox: http://www.teos-10.org/pubs/Getting_Started.pdf\n",
    "import gsw\n",
    "from scipy.io import loadmat\n",
    "import cartopy.crs as ccrs\n",
    "import cartopy.feature as cfeature\n",
    "import matplotlib.pyplot as plt\n",
    "\n",
    "import tqdm\n",
    "import sys\n",
    "import os\n",
    "sys.path.append('../..')\n",
    "from src.features.processing_func import mld\n",
    "from src.features.processing_func import check_coords, calc_N2_kappa, calc_hab, arctic_calchab, calc_N2_kappa_sorted, mld\n",
    "from src.features.calc_seaice import calc_SIC\n",
    "from src.utils.directories import get_parent_directory\n",
    "from src.features.feature_generation import processing_functions\n",
    "\n",
    "import warnings\n",
    "warnings.filterwarnings(\"ignore\", category=RuntimeWarning)"
   ]
  },
  {
   "cell_type": "code",
   "execution_count": 2,
   "metadata": {},
   "outputs": [],
   "source": [
    "parent_dir = get_parent_directory()\n",
    "\n",
    "arctic_mix = os.path.join(parent_dir, \"data/interim/arctic_mix.nc\")\n",
    "asbo_nc = os.path.join(parent_dir, \"data/interim/ASBO-TEACOSI_ds.nc\")\n",
    "mosaic_nc = os.path.join(parent_dir, \"data/interim/mosaic_ds.nc\")\n",
    "nice_nc = os.path.join(parent_dir, \"data/interim/nice_ds.nc\")\n",
    "HM_nc = os.path.join(parent_dir, \"data/interim/HM_ds.nc\")\n",
    "barneo2007_nc = os.path.join(parent_dir, \"data/interim/barneo2007_ds.nc\")\n",
    "barneo2008_nc = os.path.join(parent_dir, \"data/interim/barneo2008_ds.nc\")\n",
    "KB2018616_nc = os.path.join(parent_dir, \"data/interim/KB2018616.nc\")\n",
    "KH2018709_nc = os.path.join(parent_dir, \"data/interim/KH2018709.nc\")\n",
    "ascos_nc = os.path.join(parent_dir, \"data/interim/ascos_ds.nc\")\n",
    "\n",
    "arctic_ds = xr.open_dataset(arctic_mix)\n",
    "asbo_ds = xr.open_dataset(asbo_nc)\n",
    "mosaic_ds = xr.open_dataset(mosaic_nc)\n",
    "nice_ds = xr.open_dataset(nice_nc)\n",
    "HM_ds = xr.open_dataset(HM_nc)\n",
    "barneo2007_ds = xr.open_dataset(barneo2007_nc)\n",
    "barneo2008_ds = xr.open_dataset(barneo2008_nc)\n",
    "KB2018616_ds = xr.open_dataset(KB2018616_nc)\n",
    "KH2018709_ds = xr.open_dataset(KH2018709_nc)\n",
    "ascos_ds = xr.open_dataset(ascos_nc)"
   ]
  },
  {
   "cell_type": "code",
   "execution_count": 3,
   "metadata": {},
   "outputs": [],
   "source": [
    "import xarray as xr\n",
    "arctic_ds = arctic_ds.rename({\"longitude\": \"lon\", \"latitude\": \"lat\"})\n",
    "arctic_ds[\"latitude\"] = arctic_ds.lat\n",
    "arctic_ds[\"longitude\"] = arctic_ds.lon"
   ]
  },
  {
   "cell_type": "code",
   "execution_count": 28,
   "metadata": {},
   "outputs": [],
   "source": [
    "asbo_ds = asbo_ds.rename({\"longitude\": \"lon\", \"latitude\": \"lat\"})\n",
    "asbo_ds[\"latitude\"] = asbo_ds.lat\n",
    "asbo_ds[\"longitude\"] = asbo_ds.lon"
   ]
  },
  {
   "cell_type": "code",
   "execution_count": 4,
   "metadata": {},
   "outputs": [],
   "source": [
    "# Bathymetry dataset\n",
    "GEBCO_ds = os.path.join(parent_dir, \"data/external/GEBCO/gebco_2022_n80.0_s63.0_w-170.0_e-130.0.nc\")\n",
    "bathy_ds = xr.open_dataset(GEBCO_ds)"
   ]
  },
  {
   "cell_type": "code",
   "execution_count": 5,
   "metadata": {},
   "outputs": [],
   "source": [
    "# Sea ice fraction data\n",
    "SI_HadISST = os.path.join(parent_dir, \"data/external/SI-area/HadISST_ice.nc\")\n",
    "Hadi_SI = xr.open_dataset(SI_HadISST)"
   ]
  },
  {
   "cell_type": "markdown",
   "metadata": {},
   "source": [
    "## Add all features and combine all datasets into one dataframe\n",
    "The features and the plots are explained below"
   ]
  },
  {
   "cell_type": "code",
   "execution_count": 6,
   "metadata": {},
   "outputs": [],
   "source": [
    "# add variables of the cruise name\n",
    "arctic_ds[\"cruise\"] = \"ArcticMix\"\n",
    "nice_ds[\"cruise\"] = \"NICE-2015\"\n",
    "mosaic_ds[\"cruise\"] = \"Mosaic\"\n",
    "asbo_ds[\"cruise\"] = \"ASBO\"\n",
    "HM_ds[\"cruise\"] = \"Haakon Mosby\"\n",
    "barneo2007_ds[\"cruise\"] = \"IPY Barneo 2007\"\n",
    "barneo2008_ds[\"cruise\"] = \"IPY Barneo 2008\"\n",
    "KB2018616_ds[\"cruise\"] = \"Nansen Legacy 2018\"\n",
    "KH2018709_ds[\"cruise\"] = \"Nansen Legacy 2019\"\n",
    "ascos_ds[\"cruise\"] = \"ASCOS\""
   ]
  },
  {
   "cell_type": "code",
   "execution_count": 7,
   "metadata": {},
   "outputs": [],
   "source": [
    "selected_columns = [\"depth\", \"profile\", \"cruise\", \"latitude\", \"longitude\", \"S\", \"T\", \"log_eps\", \"log_N2\", \"dTdz\", \"dSdz\", \"hab\", \"Tu\", \"Tu_label\", \"time\", \"Rsubrho\", \"sea_ice_concentration\", \"MLDJ\", \"MLDI\"]\n",
    "# selected_columns = [\"depth\", \"profile\", \"latitude\", \"longitude\", \"P\", \"S\", \"T\", \"Tu\", \"kappa\", \"log_N2\", \"log_kappa\", \"log_eps\", \"dTdz\", \"dSdz\", \"eps\", \"cruise\", \"hab\", \"Tu_label\", \"time\"]"
   ]
  },
  {
   "cell_type": "code",
   "execution_count": 8,
   "metadata": {},
   "outputs": [],
   "source": [
    "# Mosaic dataset only includes the log epsilon\n",
    "mosaic_ds[\"log_eps\"] = mosaic_ds[\"eps\"]"
   ]
  },
  {
   "cell_type": "code",
   "execution_count": 10,
   "metadata": {},
   "outputs": [],
   "source": [
    "nice_ds = processing_functions(nice_ds, selected_columns, Hadi_SI, bathy_ds)\n",
    "nice_df = nice_ds.to_dataframe().reset_index()\n",
    "nice_df.to_pickle(os.path.join(parent_dir, \"data/interim/nice_df.pkl\"))"
   ]
  },
  {
   "cell_type": "code",
   "execution_count": 8,
   "metadata": {},
   "outputs": [],
   "source": [
    "mosaic_ds = processing_functions(mosaic_ds, selected_columns, Hadi_SI, bathy_ds)\n",
    "mosaic_df = mosaic_ds.to_dataframe().reset_index()\n",
    "mosaic_df.to_pickle(os.path.join(parent_dir, \"data/interim/mosaic_df.pkl\"))"
   ]
  },
  {
   "cell_type": "code",
   "execution_count": 10,
   "metadata": {},
   "outputs": [],
   "source": [
    "HM_ds = processing_functions(HM_ds, selected_columns, Hadi_SI, bathy_ds)\n",
    "HM_df = HM_ds.to_dataframe().reset_index()\n",
    "HM_df.to_pickle(os.path.join(parent_dir, \"data/interim/HM_df.pkl\"))"
   ]
  },
  {
   "cell_type": "code",
   "execution_count": 29,
   "metadata": {},
   "outputs": [],
   "source": [
    "asbo_ds = processing_functions(asbo_ds, selected_columns, Hadi_SI, bathy_ds)\n",
    "asbo_df = asbo_ds.to_dataframe().reset_index()\n",
    "asbo_df.to_pickle(os.path.join(parent_dir, \"data/interim/asbo_df.pkl\"))"
   ]
  },
  {
   "cell_type": "code",
   "execution_count": 10,
   "metadata": {},
   "outputs": [],
   "source": [
    "barneo2007_ds = processing_functions(barneo2007_ds, selected_columns, Hadi_SI, bathy_ds)\n",
    "barneo2007_df = barneo2007_ds.to_dataframe().reset_index()\n",
    "barneo2007_df.to_pickle(os.path.join(parent_dir, \"data/interim/barneo2007_df.pkl\"))\n",
    "barneo2008_df = processing_functions(barneo2008_ds, selected_columns, Hadi_SI, bathy_ds)\n",
    "barneo2008_df = barneo2008_ds.to_dataframe().reset_index()\n",
    "barneo2008_df.to_pickle(os.path.join(parent_dir, \"data/interim/barneo2008_df.pkl\"))\n",
    "\n",
    "KB2018616_ds = processing_functions(KB2018616_ds, selected_columns, Hadi_SI, bathy_ds)\n",
    "KB2018616_df = KB2018616_ds.to_dataframe().reset_index()\n",
    "KB2018616_df.to_pickle(os.path.join(parent_dir, \"data/interim/KB2018616_df.pkl\"))\n",
    "KH2018709_ds = processing_functions(KH2018709_ds, selected_columns, Hadi_SI, bathy_ds)\n",
    "KH2018709_df = KH2018709_ds.to_dataframe().reset_index()\n",
    "KH2018709_df.to_pickle(os.path.join(parent_dir, \"data/interim/KH2018709_df.pkl\"))"
   ]
  },
  {
   "cell_type": "code",
   "execution_count": 11,
   "metadata": {},
   "outputs": [],
   "source": [
    "ascos_ds = processing_functions(ascos_ds, selected_columns, Hadi_SI, bathy_ds)\n",
    "ascos_df = ascos_ds.to_dataframe().reset_index()\n",
    "ascos_df.to_pickle(os.path.join(parent_dir, \"data/interim/ascos_df.pkl\"))"
   ]
  },
  {
   "cell_type": "code",
   "execution_count": 9,
   "metadata": {},
   "outputs": [],
   "source": [
    "arctic_ds = processing_functions(arctic_ds, selected_columns, Hadi_SI, bathy_ds, True)\n",
    "arctic_df = arctic_ds.to_dataframe().reset_index()\n",
    "arctic_df.to_pickle(os.path.join(parent_dir, \"data/interim/arctic_df.pkl\"))"
   ]
  },
  {
   "cell_type": "markdown",
   "metadata": {},
   "source": [
    "## Open saved dataframes"
   ]
  },
  {
   "cell_type": "code",
   "execution_count": 10,
   "metadata": {},
   "outputs": [],
   "source": [
    "arctic_df = pd.read_pickle(os.path.join(parent_dir, \"data/interim/arctic_df.pkl\")) # no lon and lat\n",
    "nice_df = pd.read_pickle(os.path.join(parent_dir, \"data/interim/nice_df.pkl\"))\n",
    "mosaic_df = pd.read_pickle(os.path.join(parent_dir, \"data/interim/mosaic_df.pkl\"))\n",
    "ascos_df = pd.read_pickle(os.path.join(parent_dir, \"data/interim/ascos_df.pkl\"))\n",
    "asbo_df = pd.read_pickle(os.path.join(parent_dir, \"data/interim/asbo_df.pkl\")) # geen lat en lon\n",
    "HM_df = pd.read_pickle(os.path.join(parent_dir, \"data/interim/HM_df.pkl\"))\n",
    "barneo2007_df = pd.read_pickle(os.path.join(parent_dir, \"data/interim/barneo2007_df.pkl\"))\n",
    "barneo2008_df = pd.read_pickle(os.path.join(parent_dir, \"data/interim/barneo2008_df.pkl\"))\n",
    "KB2018616_df = pd.read_pickle(os.path.join(parent_dir, \"data/interim/KB2018616_df.pkl\"))\n",
    "KH2018709_df = pd.read_pickle(os.path.join(parent_dir, \"data/interim/KH2018709_df.pkl\"))"
   ]
  },
  {
   "cell_type": "code",
   "execution_count": 13,
   "metadata": {},
   "outputs": [],
   "source": [
    "arctic_df.describe()\n",
    "arctic_df[\"sea_ice_concentration\"] = 0"
   ]
  },
  {
   "cell_type": "code",
   "execution_count": 17,
   "metadata": {},
   "outputs": [],
   "source": [
    "combined_df = pd.concat([nice_df,arctic_df, mosaic_df, HM_df, asbo_df, barneo2007_df, barneo2008_df, KB2018616_df, KH2018709_df, ascos_df])\n",
    "combined_nona = combined_df.dropna()\n",
    "combined_nona.to_pickle(os.path.join(parent_dir, \"data/processed/ml_ready/1406_ML.pkl\"))"
   ]
  },
  {
   "cell_type": "code",
   "execution_count": 30,
   "metadata": {},
   "outputs": [],
   "source": [
    "dfs = [nice_df,arctic_df, mosaic_df, HM_df, asbo_df, barneo2007_df, barneo2008_df, KB2018616_df, KH2018709_df, ascos_df]"
   ]
  },
  {
   "cell_type": "code",
   "execution_count": 31,
   "metadata": {},
   "outputs": [],
   "source": [
    "selected_columns = [\"depth\", \"profile\", \"cruise\", \"latitude\", \"longitude\", \"S\", \"T\", \"log_eps\", \"log_N2\", \"dTdz\", \"dSdz\", \"hab\", \"Tu\", \"Tu_label\", \"Rsubrho\", \"sea_ice_concentration\", \"MLDJ\", \"MLDI\"]"
   ]
  },
  {
   "cell_type": "code",
   "execution_count": 33,
   "metadata": {},
   "outputs": [],
   "source": [
    "# Select columns from each DataFrame and concatenate them\n",
    "combined_df = pd.concat([df[selected_columns] for df in dfs])\n",
    "combined_nona = combined_df.dropna()\n",
    "combined_nona.to_pickle(os.path.join(parent_dir, \"data/processed/ml_ready/1406_ML.pkl\"))"
   ]
  }
 ],
 "metadata": {
  "kernelspec": {
   "display_name": "Python 3.11.3 ('arcticT')",
   "language": "python",
   "name": "python3"
  },
  "language_info": {
   "codemirror_mode": {
    "name": "ipython",
    "version": 3
   },
   "file_extension": ".py",
   "mimetype": "text/x-python",
   "name": "python",
   "nbconvert_exporter": "python",
   "pygments_lexer": "ipython3",
   "version": "3.11.3"
  },
  "orig_nbformat": 4,
  "vscode": {
   "interpreter": {
    "hash": "8dbe666d3ff0a912f7bf0b5ebf79f120d34d32fb27f825149a704cbc210e489f"
   }
  }
 },
 "nbformat": 4,
 "nbformat_minor": 2
}
