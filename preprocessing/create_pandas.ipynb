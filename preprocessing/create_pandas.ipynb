{
 "cells": [
  {
   "cell_type": "markdown",
   "metadata": {},
   "source": [
    "## matlabengine\n",
    "Load in different .m files from matlab using matlab API"
   ]
  },
  {
   "cell_type": "code",
   "execution_count": 98,
   "metadata": {},
   "outputs": [],
   "source": [
    "import netCDF4 as nc\n",
    "from netCDF4 import Dataset\n",
    "import xarray as xr\n",
    "import pandas as pd\n",
    "import numpy as np\n",
    "import matplotlib.pyplot as plt\n",
    "# gsw oceanic toolbox: http://www.teos-10.org/pubs/Getting_Started.pdf\n",
    "import gsw\n",
    "from scipy.io import loadmat"
   ]
  },
  {
   "cell_type": "code",
   "execution_count": 99,
   "metadata": {},
   "outputs": [],
   "source": [
    "arctic_nc = \"/Users/Lisanne/Documents/AI4ER/Mres/ArcticTurbulence/data/arctic_mmp.nc\"\n",
    "arctic_dataset = Dataset(arctic_nc)\n",
    "arctic_ds = xr.open_dataset(arctic_nc)\n",
    "gamma_m = '/Users/Lisanne/Documents/AI4ER/Mres/ArcticTurbulence/gamma_GP_from_SP_pt.m'"
   ]
  },
  {
   "cell_type": "code",
   "execution_count": 100,
   "metadata": {},
   "outputs": [],
   "source": [
    "arctic_ds['pot_temp'] = gsw.conversions.pt0_from_t(arctic_ds.PSAL,arctic_ds.TEMPERATURE,arctic_ds.PRESSURE)"
   ]
  },
  {
   "cell_type": "markdown",
   "metadata": {},
   "source": [
    "T and S must have MxN dimensions, p can be 1x1, or 1xN or Mx1."
   ]
  },
  {
   "cell_type": "code",
   "execution_count": 116,
   "metadata": {},
   "outputs": [],
   "source": [
    "# convert xr data array to numpy array using .values\n",
    "# np.arrays are supported in matlab engine\n",
    "\n",
    "T = arctic_ds[\"pot_temp\"].values\n",
    "# flatten T for the last dimension\n",
    "T = np.squeeze(T, axis=-1) \n",
    "S = arctic_ds[\"PSAL\"].values\n",
    "p = arctic_ds[\"PRESSURE\"].values\n",
    "p = np.squeeze(p, axis=-1) \n",
    "lat = arctic_ds[\"LATITUDE\"].values\n",
    "lat = np.squeeze(lat, axis=-1) \n",
    "lon = arctic_ds[\"LONGITUDE\"].values\n",
    "lon = np.squeeze(lon, axis=-1) \n",
    "z = arctic_ds[\"depth\"].values"
   ]
  },
  {
   "cell_type": "code",
   "execution_count": 141,
   "metadata": {},
   "outputs": [
    {
     "data": {
      "text/plain": [
       "(871, 1201)"
      ]
     },
     "execution_count": 141,
     "metadata": {},
     "output_type": "execute_result"
    }
   ],
   "source": [
    "T.shape"
   ]
  },
  {
   "cell_type": "code",
   "execution_count": 140,
   "metadata": {},
   "outputs": [
    {
     "data": {
      "text/plain": [
       "(1201,)"
      ]
     },
     "execution_count": 140,
     "metadata": {},
     "output_type": "execute_result"
    }
   ],
   "source": [
    "p.shape"
   ]
  },
  {
   "cell_type": "code",
   "execution_count": 123,
   "metadata": {},
   "outputs": [
    {
     "data": {
      "text/plain": [
       "(871,)"
      ]
     },
     "execution_count": 123,
     "metadata": {},
     "output_type": "execute_result"
    }
   ],
   "source": [
    "lon.shape"
   ]
  },
  {
   "cell_type": "code",
   "execution_count": 120,
   "metadata": {},
   "outputs": [
    {
     "data": {
      "text/plain": [
       "(871, 1201)"
      ]
     },
     "execution_count": 120,
     "metadata": {},
     "output_type": "execute_result"
    }
   ],
   "source": [
    "S.shape"
   ]
  },
  {
   "cell_type": "code",
   "execution_count": 121,
   "metadata": {},
   "outputs": [
    {
     "data": {
      "text/plain": [
       "(1201,)"
      ]
     },
     "execution_count": 121,
     "metadata": {},
     "output_type": "execute_result"
    }
   ],
   "source": [
    "z.shape"
   ]
  },
  {
   "cell_type": "code",
   "execution_count": 135,
   "metadata": {},
   "outputs": [],
   "source": [
    "[Zmesh, latmesh]=np.meshgrid(z, lat);\n",
    "[Zmesh, latmesh]=np.meshgrid(z, lon);"
   ]
  },
  {
   "cell_type": "code",
   "execution_count": 142,
   "metadata": {},
   "outputs": [
    {
     "data": {
      "text/plain": [
       "(871, 1201)"
      ]
     },
     "execution_count": 142,
     "metadata": {},
     "output_type": "execute_result"
    }
   ],
   "source": [
    "latmesh.shape"
   ]
  },
  {
   "cell_type": "code",
   "execution_count": 137,
   "metadata": {},
   "outputs": [
    {
     "data": {
      "text/plain": [
       "(871, 1201)"
      ]
     },
     "execution_count": 137,
     "metadata": {},
     "output_type": "execute_result"
    }
   ],
   "source": [
    "Zmesh.shape"
   ]
  },
  {
   "cell_type": "code",
   "execution_count": 108,
   "metadata": {},
   "outputs": [],
   "source": [
    "import matlab.engine\n",
    "eng = matlab.engine.start_matlab()"
   ]
  },
  {
   "cell_type": "code",
   "execution_count": 138,
   "metadata": {},
   "outputs": [
    {
     "name": "stderr",
     "output_type": "stream",
     "text": [
      "Error using gamma_GP_from_SP_pt\n",
      "gamma_GP_from_SP_pt: Inputs array dimensions arguments do not agree\n",
      "\n"
     ]
    },
    {
     "ename": "MatlabExecutionError",
     "evalue": "\n  File /Users/Lisanne/Documents/AI4ER/Mres/ArcticTurbulence/gamma_GP_from_SP_pt.m, line 121, in gamma_GP_from_SP_pt\ngamma_GP_from_SP_pt: Inputs array dimensions arguments do not agree\n",
     "output_type": "error",
     "traceback": [
      "\u001b[0;31m---------------------------------------------------------------------------\u001b[0m",
      "\u001b[0;31mMatlabExecutionError\u001b[0m                      Traceback (most recent call last)",
      "Cell \u001b[0;32mIn [138], line 10\u001b[0m\n\u001b[1;32m      7\u001b[0m eng\u001b[39m.\u001b[39mworkspace[\u001b[39m'\u001b[39m\u001b[39mlong\u001b[39m\u001b[39m'\u001b[39m] \u001b[39m=\u001b[39m lonmesh\n\u001b[1;32m      8\u001b[0m eng\u001b[39m.\u001b[39mworkspace[\u001b[39m'\u001b[39m\u001b[39mlat\u001b[39m\u001b[39m'\u001b[39m] \u001b[39m=\u001b[39m latmesh\n\u001b[0;32m---> 10\u001b[0m eng\u001b[39m.\u001b[39;49meval(\u001b[39m\"\u001b[39;49m\u001b[39mgamma = gamma_GP_from_SP_pt(SP, pt, p, long, lat)\u001b[39;49m\u001b[39m\"\u001b[39;49m, nargout\u001b[39m=\u001b[39;49m\u001b[39m0\u001b[39;49m)\n\u001b[1;32m     12\u001b[0m \u001b[39m# Disconnect from the MATLAB engine\u001b[39;00m\n\u001b[1;32m     13\u001b[0m eng\u001b[39m.\u001b[39mquit()\n",
      "File \u001b[0;32m~/opt/anaconda3/envs/gtc/lib/python3.10/site-packages/matlab/engine/matlabengine.py:71\u001b[0m, in \u001b[0;36mMatlabFunc.__call__\u001b[0;34m(self, *args, **kwargs)\u001b[0m\n\u001b[1;32m     68\u001b[0m     \u001b[39mreturn\u001b[39;00m FutureResult(\u001b[39mself\u001b[39m\u001b[39m.\u001b[39m_engine(), future, nargs, _stdout, _stderr, feval\u001b[39m=\u001b[39m\u001b[39mTrue\u001b[39;00m)\n\u001b[1;32m     69\u001b[0m \u001b[39melse\u001b[39;00m:\n\u001b[1;32m     70\u001b[0m     \u001b[39mreturn\u001b[39;00m FutureResult(\u001b[39mself\u001b[39;49m\u001b[39m.\u001b[39;49m_engine(), future, nargs, _stdout,\n\u001b[0;32m---> 71\u001b[0m                         _stderr, feval\u001b[39m=\u001b[39;49m\u001b[39mTrue\u001b[39;49;00m)\u001b[39m.\u001b[39;49mresult()\n",
      "File \u001b[0;32m~/opt/anaconda3/envs/gtc/lib/python3.10/site-packages/matlab/engine/futureresult.py:67\u001b[0m, in \u001b[0;36mFutureResult.result\u001b[0;34m(self, timeout)\u001b[0m\n\u001b[1;32m     64\u001b[0m     \u001b[39mif\u001b[39;00m timeout \u001b[39m<\u001b[39m \u001b[39m0\u001b[39m:\n\u001b[1;32m     65\u001b[0m         \u001b[39mraise\u001b[39;00m \u001b[39mTypeError\u001b[39;00m(pythonengine\u001b[39m.\u001b[39mgetMessage(\u001b[39m'\u001b[39m\u001b[39mTimeoutCannotBeNegative\u001b[39m\u001b[39m'\u001b[39m))\n\u001b[0;32m---> 67\u001b[0m \u001b[39mreturn\u001b[39;00m \u001b[39mself\u001b[39;49m\u001b[39m.\u001b[39;49m__future\u001b[39m.\u001b[39;49mresult(timeout)\n",
      "File \u001b[0;32m~/opt/anaconda3/envs/gtc/lib/python3.10/site-packages/matlab/engine/fevalfuture.py:82\u001b[0m, in \u001b[0;36mFevalFuture.result\u001b[0;34m(self, timeout)\u001b[0m\n\u001b[1;32m     79\u001b[0m \u001b[39mif\u001b[39;00m \u001b[39mnot\u001b[39;00m result_ready:\n\u001b[1;32m     80\u001b[0m     \u001b[39mraise\u001b[39;00m \u001b[39mTimeoutError\u001b[39;00m(pythonengine\u001b[39m.\u001b[39mgetMessage(\u001b[39m'\u001b[39m\u001b[39mMatlabFunctionTimeout\u001b[39m\u001b[39m'\u001b[39m))\n\u001b[0;32m---> 82\u001b[0m \u001b[39mself\u001b[39m\u001b[39m.\u001b[39m_result \u001b[39m=\u001b[39m pythonengine\u001b[39m.\u001b[39;49mgetFEvalResult(\u001b[39mself\u001b[39;49m\u001b[39m.\u001b[39;49m_future,\u001b[39mself\u001b[39;49m\u001b[39m.\u001b[39;49m_nargout, \u001b[39mNone\u001b[39;49;00m, out\u001b[39m=\u001b[39;49m\u001b[39mself\u001b[39;49m\u001b[39m.\u001b[39;49m_out, err\u001b[39m=\u001b[39;49m\u001b[39mself\u001b[39;49m\u001b[39m.\u001b[39;49m_err)\n\u001b[1;32m     83\u001b[0m \u001b[39mself\u001b[39m\u001b[39m.\u001b[39m_retrieved \u001b[39m=\u001b[39m \u001b[39mTrue\u001b[39;00m\n\u001b[1;32m     84\u001b[0m \u001b[39mreturn\u001b[39;00m \u001b[39mself\u001b[39m\u001b[39m.\u001b[39m_result\n",
      "\u001b[0;31mMatlabExecutionError\u001b[0m: \n  File /Users/Lisanne/Documents/AI4ER/Mres/ArcticTurbulence/gamma_GP_from_SP_pt.m, line 121, in gamma_GP_from_SP_pt\ngamma_GP_from_SP_pt: Inputs array dimensions arguments do not agree\n"
     ]
    }
   ],
   "source": [
    "eng.addpath('/Users/Lisanne/Documents/AI4ER/Mres/ArcticTurbulence')\n",
    "\n",
    "# Set the input arguments in the MATLAB workspace\n",
    "eng.workspace['SP'] = S\n",
    "eng.workspace['pt'] = T\n",
    "eng.workspace['p'] = p\n",
    "eng.workspace['long'] = lonmesh\n",
    "eng.workspace['lat'] = latmesh\n",
    "\n",
    "eng.eval(\"gamma = gamma_GP_from_SP_pt(SP, pt, p, long, lat)\", nargout=0)\n",
    "\n",
    "# Disconnect from the MATLAB engine\n",
    "eng.quit()"
   ]
  },
  {
   "cell_type": "code",
   "execution_count": 115,
   "metadata": {},
   "outputs": [
    {
     "name": "stderr",
     "output_type": "stream",
     "text": [
      "Error using eval\n",
      "Unrecognized function or variable 'S'.\n",
      "\n"
     ]
    },
    {
     "ename": "MatlabExecutionError",
     "evalue": "Unrecognized function or variable 'S'.\n",
     "output_type": "error",
     "traceback": [
      "\u001b[0;31m---------------------------------------------------------------------------\u001b[0m",
      "\u001b[0;31mMatlabExecutionError\u001b[0m                      Traceback (most recent call last)",
      "Cell \u001b[0;32mIn [115], line 3\u001b[0m\n\u001b[1;32m      1\u001b[0m eng\u001b[39m.\u001b[39maddpath(\u001b[39m'\u001b[39m\u001b[39m/Users/Lisanne/Documents/AI4ER/Mres/ArcticTurbulence/\u001b[39m\u001b[39m'\u001b[39m)\n\u001b[1;32m      2\u001b[0m \u001b[39m#eng.eval(\"run('/Users/Lisanne/Documents/AI4ER/Mres/ArcticTurbulence/gamma_GP_from_SP_pt.m')\", nargout=0)\u001b[39;00m\n\u001b[0;32m----> 3\u001b[0m eng\u001b[39m.\u001b[39;49meval(\u001b[39m\"\u001b[39;49m\u001b[39mgamma = gamma_GP_from_SP_pt(S, T, p, long, lat)\u001b[39;49m\u001b[39m\"\u001b[39;49m, nargout\u001b[39m=\u001b[39;49m\u001b[39m0\u001b[39;49m)\n",
      "File \u001b[0;32m~/opt/anaconda3/envs/gtc/lib/python3.10/site-packages/matlab/engine/matlabengine.py:71\u001b[0m, in \u001b[0;36mMatlabFunc.__call__\u001b[0;34m(self, *args, **kwargs)\u001b[0m\n\u001b[1;32m     68\u001b[0m     \u001b[39mreturn\u001b[39;00m FutureResult(\u001b[39mself\u001b[39m\u001b[39m.\u001b[39m_engine(), future, nargs, _stdout, _stderr, feval\u001b[39m=\u001b[39m\u001b[39mTrue\u001b[39;00m)\n\u001b[1;32m     69\u001b[0m \u001b[39melse\u001b[39;00m:\n\u001b[1;32m     70\u001b[0m     \u001b[39mreturn\u001b[39;00m FutureResult(\u001b[39mself\u001b[39;49m\u001b[39m.\u001b[39;49m_engine(), future, nargs, _stdout,\n\u001b[0;32m---> 71\u001b[0m                         _stderr, feval\u001b[39m=\u001b[39;49m\u001b[39mTrue\u001b[39;49;00m)\u001b[39m.\u001b[39;49mresult()\n",
      "File \u001b[0;32m~/opt/anaconda3/envs/gtc/lib/python3.10/site-packages/matlab/engine/futureresult.py:67\u001b[0m, in \u001b[0;36mFutureResult.result\u001b[0;34m(self, timeout)\u001b[0m\n\u001b[1;32m     64\u001b[0m     \u001b[39mif\u001b[39;00m timeout \u001b[39m<\u001b[39m \u001b[39m0\u001b[39m:\n\u001b[1;32m     65\u001b[0m         \u001b[39mraise\u001b[39;00m \u001b[39mTypeError\u001b[39;00m(pythonengine\u001b[39m.\u001b[39mgetMessage(\u001b[39m'\u001b[39m\u001b[39mTimeoutCannotBeNegative\u001b[39m\u001b[39m'\u001b[39m))\n\u001b[0;32m---> 67\u001b[0m \u001b[39mreturn\u001b[39;00m \u001b[39mself\u001b[39;49m\u001b[39m.\u001b[39;49m__future\u001b[39m.\u001b[39;49mresult(timeout)\n",
      "File \u001b[0;32m~/opt/anaconda3/envs/gtc/lib/python3.10/site-packages/matlab/engine/fevalfuture.py:82\u001b[0m, in \u001b[0;36mFevalFuture.result\u001b[0;34m(self, timeout)\u001b[0m\n\u001b[1;32m     79\u001b[0m \u001b[39mif\u001b[39;00m \u001b[39mnot\u001b[39;00m result_ready:\n\u001b[1;32m     80\u001b[0m     \u001b[39mraise\u001b[39;00m \u001b[39mTimeoutError\u001b[39;00m(pythonengine\u001b[39m.\u001b[39mgetMessage(\u001b[39m'\u001b[39m\u001b[39mMatlabFunctionTimeout\u001b[39m\u001b[39m'\u001b[39m))\n\u001b[0;32m---> 82\u001b[0m \u001b[39mself\u001b[39m\u001b[39m.\u001b[39m_result \u001b[39m=\u001b[39m pythonengine\u001b[39m.\u001b[39;49mgetFEvalResult(\u001b[39mself\u001b[39;49m\u001b[39m.\u001b[39;49m_future,\u001b[39mself\u001b[39;49m\u001b[39m.\u001b[39;49m_nargout, \u001b[39mNone\u001b[39;49;00m, out\u001b[39m=\u001b[39;49m\u001b[39mself\u001b[39;49m\u001b[39m.\u001b[39;49m_out, err\u001b[39m=\u001b[39;49m\u001b[39mself\u001b[39;49m\u001b[39m.\u001b[39;49m_err)\n\u001b[1;32m     83\u001b[0m \u001b[39mself\u001b[39m\u001b[39m.\u001b[39m_retrieved \u001b[39m=\u001b[39m \u001b[39mTrue\u001b[39;00m\n\u001b[1;32m     84\u001b[0m \u001b[39mreturn\u001b[39;00m \u001b[39mself\u001b[39m\u001b[39m.\u001b[39m_result\n",
      "\u001b[0;31mMatlabExecutionError\u001b[0m: Unrecognized function or variable 'S'.\n"
     ]
    }
   ],
   "source": [
    "eng.addpath('/Users/Lisanne/Documents/AI4ER/Mres/ArcticTurbulence/')\n",
    "#eng.eval(\"run('/Users/Lisanne/Documents/AI4ER/Mres/ArcticTurbulence/gamma_GP_from_SP_pt.m')\", nargout=0)\n",
    "eng.eval(\"gamma = gamma_GP_from_SP_pt(S, T, p, long, lat)\", nargout=0)"
   ]
  },
  {
   "cell_type": "code",
   "execution_count": 112,
   "metadata": {},
   "outputs": [
    {
     "name": "stderr",
     "output_type": "stream",
     "text": [
      "Error using gamma_GP_from_SP_pt\n",
      "gamma_GP_from_SP_pt:  Requires five inputs\n",
      "\n",
      "Error in run (line 91)\n",
      "evalin('caller', strcat(script, ';'));\n",
      "\n"
     ]
    },
    {
     "ename": "MatlabExecutionError",
     "evalue": "\n  File /Users/Lisanne/Documents/AI4ER/Mres/ArcticTurbulence/gamma_GP_from_SP_pt.m, line 54, in gamma_GP_from_SP_pt\n\n  File /Applications/MATLAB_R2023a.app/toolbox/matlab/lang/run.m, line 91, in run\ngamma_GP_from_SP_pt:  Requires five inputs\n",
     "output_type": "error",
     "traceback": [
      "\u001b[0;31m---------------------------------------------------------------------------\u001b[0m",
      "\u001b[0;31mMatlabExecutionError\u001b[0m                      Traceback (most recent call last)",
      "Cell \u001b[0;32mIn [112], line 1\u001b[0m\n\u001b[0;32m----> 1\u001b[0m eng\u001b[39m.\u001b[39;49meval(\u001b[39m\"\u001b[39;49m\u001b[39mrun(\u001b[39;49m\u001b[39m'\u001b[39;49m\u001b[39m/Users/Lisanne/Documents/AI4ER/Mres/ArcticTurbulence/gamma_GP_from_SP_pt.m\u001b[39;49m\u001b[39m'\u001b[39;49m\u001b[39m)\u001b[39;49m\u001b[39m\"\u001b[39;49m, nargout\u001b[39m=\u001b[39;49m\u001b[39m0\u001b[39;49m)\n\u001b[1;32m      2\u001b[0m gamma \u001b[39m=\u001b[39m eng\u001b[39m.\u001b[39mgamma_GP_from_SP_pt(S, T, p, lonmesh, latmesh, nargout\u001b[39m=\u001b[39m\u001b[39m1\u001b[39m)\n",
      "File \u001b[0;32m~/opt/anaconda3/envs/gtc/lib/python3.10/site-packages/matlab/engine/matlabengine.py:71\u001b[0m, in \u001b[0;36mMatlabFunc.__call__\u001b[0;34m(self, *args, **kwargs)\u001b[0m\n\u001b[1;32m     68\u001b[0m     \u001b[39mreturn\u001b[39;00m FutureResult(\u001b[39mself\u001b[39m\u001b[39m.\u001b[39m_engine(), future, nargs, _stdout, _stderr, feval\u001b[39m=\u001b[39m\u001b[39mTrue\u001b[39;00m)\n\u001b[1;32m     69\u001b[0m \u001b[39melse\u001b[39;00m:\n\u001b[1;32m     70\u001b[0m     \u001b[39mreturn\u001b[39;00m FutureResult(\u001b[39mself\u001b[39;49m\u001b[39m.\u001b[39;49m_engine(), future, nargs, _stdout,\n\u001b[0;32m---> 71\u001b[0m                         _stderr, feval\u001b[39m=\u001b[39;49m\u001b[39mTrue\u001b[39;49;00m)\u001b[39m.\u001b[39;49mresult()\n",
      "File \u001b[0;32m~/opt/anaconda3/envs/gtc/lib/python3.10/site-packages/matlab/engine/futureresult.py:67\u001b[0m, in \u001b[0;36mFutureResult.result\u001b[0;34m(self, timeout)\u001b[0m\n\u001b[1;32m     64\u001b[0m     \u001b[39mif\u001b[39;00m timeout \u001b[39m<\u001b[39m \u001b[39m0\u001b[39m:\n\u001b[1;32m     65\u001b[0m         \u001b[39mraise\u001b[39;00m \u001b[39mTypeError\u001b[39;00m(pythonengine\u001b[39m.\u001b[39mgetMessage(\u001b[39m'\u001b[39m\u001b[39mTimeoutCannotBeNegative\u001b[39m\u001b[39m'\u001b[39m))\n\u001b[0;32m---> 67\u001b[0m \u001b[39mreturn\u001b[39;00m \u001b[39mself\u001b[39;49m\u001b[39m.\u001b[39;49m__future\u001b[39m.\u001b[39;49mresult(timeout)\n",
      "File \u001b[0;32m~/opt/anaconda3/envs/gtc/lib/python3.10/site-packages/matlab/engine/fevalfuture.py:82\u001b[0m, in \u001b[0;36mFevalFuture.result\u001b[0;34m(self, timeout)\u001b[0m\n\u001b[1;32m     79\u001b[0m \u001b[39mif\u001b[39;00m \u001b[39mnot\u001b[39;00m result_ready:\n\u001b[1;32m     80\u001b[0m     \u001b[39mraise\u001b[39;00m \u001b[39mTimeoutError\u001b[39;00m(pythonengine\u001b[39m.\u001b[39mgetMessage(\u001b[39m'\u001b[39m\u001b[39mMatlabFunctionTimeout\u001b[39m\u001b[39m'\u001b[39m))\n\u001b[0;32m---> 82\u001b[0m \u001b[39mself\u001b[39m\u001b[39m.\u001b[39m_result \u001b[39m=\u001b[39m pythonengine\u001b[39m.\u001b[39;49mgetFEvalResult(\u001b[39mself\u001b[39;49m\u001b[39m.\u001b[39;49m_future,\u001b[39mself\u001b[39;49m\u001b[39m.\u001b[39;49m_nargout, \u001b[39mNone\u001b[39;49;00m, out\u001b[39m=\u001b[39;49m\u001b[39mself\u001b[39;49m\u001b[39m.\u001b[39;49m_out, err\u001b[39m=\u001b[39;49m\u001b[39mself\u001b[39;49m\u001b[39m.\u001b[39;49m_err)\n\u001b[1;32m     83\u001b[0m \u001b[39mself\u001b[39m\u001b[39m.\u001b[39m_retrieved \u001b[39m=\u001b[39m \u001b[39mTrue\u001b[39;00m\n\u001b[1;32m     84\u001b[0m \u001b[39mreturn\u001b[39;00m \u001b[39mself\u001b[39m\u001b[39m.\u001b[39m_result\n",
      "\u001b[0;31mMatlabExecutionError\u001b[0m: \n  File /Users/Lisanne/Documents/AI4ER/Mres/ArcticTurbulence/gamma_GP_from_SP_pt.m, line 54, in gamma_GP_from_SP_pt\n\n  File /Applications/MATLAB_R2023a.app/toolbox/matlab/lang/run.m, line 91, in run\ngamma_GP_from_SP_pt:  Requires five inputs\n"
     ]
    }
   ],
   "source": [
    "eng.eval(\"run('/Users/Lisanne/Documents/AI4ER/Mres/ArcticTurbulence/gamma_GP_from_SP_pt.m')\", nargout=0)\n",
    "gamma = eng.gamma_GP_from_SP_pt(S, T, p, lonmesh, latmesh, nargout=1)"
   ]
  }
 ],
 "metadata": {
  "kernelspec": {
   "display_name": "Python 3.10.8 ('gtc')",
   "language": "python",
   "name": "python3"
  },
  "language_info": {
   "codemirror_mode": {
    "name": "ipython",
    "version": 3
   },
   "file_extension": ".py",
   "mimetype": "text/x-python",
   "name": "python",
   "nbconvert_exporter": "python",
   "pygments_lexer": "ipython3",
   "version": "3.10.8"
  },
  "orig_nbformat": 4,
  "vscode": {
   "interpreter": {
    "hash": "2e5b626aaea40ab619dc6757164911a8804e7edc5ad4b11453f28dfc67531fa0"
   }
  }
 },
 "nbformat": 4,
 "nbformat_minor": 2
}
