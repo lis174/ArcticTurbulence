{
 "cells": [
  {
   "cell_type": "code",
   "execution_count": 101,
   "metadata": {},
   "outputs": [],
   "source": [
    "import netCDF4 as nc\n",
    "from netCDF4 import Dataset\n",
    "import xarray as xr\n",
    "import pandas as pd\n",
    "import numpy as np\n",
    "import matplotlib.pyplot as plt\n",
    "# gsw oceanic toolbox: http://www.teos-10.org/pubs/Getting_Started.pdf\n",
    "import gsw\n",
    "from scipy.io import loadmat\n",
    "import os\n",
    "import sys\n",
    "import cartopy.crs as ccrs\n",
    "import cartopy.feature as cfeature\n",
    "import matplotlib.pyplot as plt\n",
    "sys.path.append('../..')\n",
    "from src.data.functions import safe_log, convert_datetime\n",
    "from src.utils.directories import get_parent_directory\n",
    "\n",
    "import sys\n",
    "import os\n",
    "sys.path.append('../..')\n",
    "from src.features.processing_func import mld\n",
    "from src.features.calc_seaice import calc_SIC\n",
    "from src.utils.directories import get_parent_directory"
   ]
  },
  {
   "cell_type": "markdown",
   "metadata": {},
   "source": [
    "Use ascos_mat_to_nc.m file, from src/data folder and run in matlab to generate the nc file."
   ]
  },
  {
   "cell_type": "code",
   "execution_count": 19,
   "metadata": {},
   "outputs": [],
   "source": [
    "parent_dir = get_parent_directory()\n",
    "ascos_nc = os.path.join(parent_dir, \"data/interim/ASCOS_data.nc\")\n",
    "ascos_ds = xr.open_dataset(ascos_nc)"
   ]
  },
  {
   "cell_type": "code",
   "execution_count": 88,
   "metadata": {},
   "outputs": [],
   "source": [
    "formatted_ds = ascos_ds.rename_vars({\"epsilon\": \"eps\", \"latitude\": \"old_lat\", \"longitude\": \"old_lon\"})\n",
    "# Convert the time coordinate into a variable\n",
    "formatted_ds = formatted_ds.assign(yday=ascos_ds.coords['time'])\n",
    "formatted_ds = formatted_ds.rename({\"time\": \"profile\"})"
   ]
  },
  {
   "cell_type": "code",
   "execution_count": 90,
   "metadata": {},
   "outputs": [],
   "source": [
    "dataset = formatted_ds\n",
    "\n",
    "# Copy latitude values\n",
    "latitude = dataset.old_lat.copy()\n",
    "\n",
    "# Create a new variable with 'profile' dimension\n",
    "new_latitude = xr.DataArray(latitude, dims=['profile'], coords={'profile': dataset.profile})\n",
    "\n",
    "# Add the new variable to the dataset\n",
    "dataset['latitude'] = new_latitude\n",
    "\n",
    "# Copy longitude values\n",
    "longitude = dataset.old_lon.copy()\n",
    "\n",
    "# Create a new variable with 'profile' dimension\n",
    "new_longitude = xr.DataArray(longitude, dims=['profile'], coords={'profile': dataset.profile})\n",
    "\n",
    "# Add the new variable to the dataset\n",
    "dataset['longitude'] = new_longitude\n",
    "\n",
    "# Drop the dimension you want to remove\n",
    "dataset = dataset.drop_vars({'old_lat', 'old_lon'})"
   ]
  },
  {
   "cell_type": "markdown",
   "metadata": {},
   "source": [
    "## Convert year day to datetime"
   ]
  },
  {
   "cell_type": "code",
   "execution_count": 93,
   "metadata": {},
   "outputs": [],
   "source": [
    "from datetime import datetime, timedelta\n",
    "\n",
    "def add_datetime_variable(dataset, variable_name, year):\n",
    "    # Extract the day of the year variable\n",
    "    day_of_year = dataset[variable_name]\n",
    "\n",
    "    # Create an empty list to store datetime values\n",
    "    datetime_values = []\n",
    "\n",
    "    # Iterate over each value in the day of the year variable\n",
    "    for day in day_of_year.values:\n",
    "        # Create a datetime object\n",
    "        date = datetime(year, 1, 1) + timedelta(days=day - 1)\n",
    "        # Append the datetime object to the list\n",
    "        datetime_values.append(date)\n",
    "\n",
    "    # Convert the list to a DataArray with the appropriate dimensions and coordinates\n",
    "    datetime_array = xr.DataArray(datetime_values, dims=day_of_year.dims, coords=day_of_year.coords)\n",
    "\n",
    "    # Add the datetime variable to the dataset\n",
    "    dataset[\"time\"] = datetime_array\n",
    "\n",
    "    return dataset"
   ]
  },
  {
   "cell_type": "code",
   "execution_count": 96,
   "metadata": {},
   "outputs": [],
   "source": [
    "dataset = add_datetime_variable(dataset, \"yday\", 2008)"
   ]
  },
  {
   "cell_type": "code",
   "execution_count": 92,
   "metadata": {},
   "outputs": [
    {
     "data": {
      "image/png": "[encoded data removed]",
      "text/plain": [
       "<Figure size 1000x1000 with 1 Axes>"
      ]
     },
     "metadata": {},
     "output_type": "display_data"
    }
   ],
   "source": [
    "fig = plt.figure(figsize=(10, 10))\n",
    "ax = fig.add_subplot(1, 1, 1, projection=ccrs.PlateCarree())\n",
    "ax.scatter(ascos_ds.longitude, ascos_ds.latitude, transform=ccrs.PlateCarree(), color='red', s=5)\n",
    "\n",
    "# Add land, ocean, and borders\n",
    "ax.add_feature(cfeature.LAND.with_scale('50m'))\n",
    "ax.add_feature(cfeature.OCEAN.with_scale('50m'))\n",
    "\n",
    "ax.set_extent([-40,30, 70, 90], crs=ccrs.PlateCarree())\n",
    "ax.set_title(\"Map with Land Boundaries and Plot Points\")\n",
    "plt.show()"
   ]
  },
  {
   "cell_type": "markdown",
   "metadata": {},
   "source": [
    "## Check if it works with the variables\n",
    "\n",
    "ensure it is in (profile, depth) shape"
   ]
  },
  {
   "cell_type": "code",
   "execution_count": 111,
   "metadata": {},
   "outputs": [],
   "source": [
    "SI_HadISST = os.path.join(parent_dir, \"data/external/SI-area/HadISST_ice.nc\")\n",
    "Hadi_SI = xr.open_dataset(SI_HadISST)"
   ]
  },
  {
   "cell_type": "code",
   "execution_count": 102,
   "metadata": {},
   "outputs": [],
   "source": [
    "from src.features.processing_func import mld\n",
    "from src.features.calc_seaice import calc_SIC"
   ]
  },
  {
   "cell_type": "code",
   "execution_count": 112,
   "metadata": {},
   "outputs": [],
   "source": [
    "ASCOS_SIC = calc_SIC(dataset, Hadi_SI)"
   ]
  },
  {
   "cell_type": "code",
   "execution_count": 122,
   "metadata": {},
   "outputs": [],
   "source": [
    "dataset = dataset.transpose(\"depth\", \"profile\")"
   ]
  },
  {
   "cell_type": "code",
   "execution_count": 123,
   "metadata": {},
   "outputs": [],
   "source": [
    "ASCOS_MLD = mld(dataset)"
   ]
  },
  {
   "cell_type": "markdown",
   "metadata": {},
   "source": [
    "## Save in datafolder"
   ]
  },
  {
   "cell_type": "code",
   "execution_count": 124,
   "metadata": {},
   "outputs": [],
   "source": [
    "# Construct the file path using the parent directory\n",
    "file_path = os.path.join(parent_dir, \"data\", \"interim\", \"ascos_ds.nc\")\n",
    "dataset.to_netcdf(file_path)"
   ]
  }
 ],
 "metadata": {
  "kernelspec": {
   "display_name": "Python 3.10.8 ('gtc')",
   "language": "python",
   "name": "python3"
  },
  "language_info": {
   "codemirror_mode": {
    "name": "ipython",
    "version": 3
   },
   "file_extension": ".py",
   "mimetype": "text/x-python",
   "name": "python",
   "nbconvert_exporter": "python",
   "pygments_lexer": "ipython3",
   "version": "3.10.8"
  },
  "orig_nbformat": 4,
  "vscode": {
   "interpreter": {
    "hash": "2e5b626aaea40ab619dc6757164911a8804e7edc5ad4b11453f28dfc67531fa0"
   }
  }
 },
 "nbformat": 4,
 "nbformat_minor": 2
}
