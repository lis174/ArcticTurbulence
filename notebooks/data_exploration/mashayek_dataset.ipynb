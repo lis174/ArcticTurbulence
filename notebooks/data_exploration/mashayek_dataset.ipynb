{
 "cells": [
  {
   "cell_type": "code",
   "execution_count": 1,
   "metadata": {},
   "outputs": [],
   "source": [
    "import netCDF4 as nc\n",
    "from netCDF4 import Dataset\n",
    "import xarray as xr\n",
    "import pandas as pd\n",
    "import numpy as np\n",
    "import matplotlib.pyplot as plt\n",
    "# gsw oceanic toolbox: http://www.teos-10.org/pubs/Getting_Started.pdf\n",
    "import gsw\n",
    "from scipy.io import loadmat\n",
    "import cartopy.crs as ccrs\n",
    "import cartopy.feature as cfeature\n",
    "import matplotlib.pyplot as plt"
   ]
  },
  {
   "cell_type": "code",
   "execution_count": 2,
   "metadata": {},
   "outputs": [],
   "source": [
    "global_nc = \"/Users/Lisanne/Documents/AI4ER/Mres/ArcticTurbulence/data/Mashayek2022/L2_2D_snapshot_iy150_model_input.nc\"\n",
    "global_ds = xr.open_dataset(global_nc)"
   ]
  },
  {
   "cell_type": "code",
   "execution_count": 5,
   "metadata": {},
   "outputs": [],
   "source": [
    "global_df = global_ds.to_dataframe()"
   ]
  },
  {
   "cell_type": "code",
   "execution_count": 8,
   "metadata": {},
   "outputs": [
    {
     "data": {
      "text/plain": [
       "Z             X         \n",
       "-5.000000     290.105011    3808.362061\n",
       "              290.114990    3812.500000\n",
       "              290.125000    3822.500000\n",
       "              290.135010    3827.989990\n",
       "              290.144989    3834.810059\n",
       "                               ...     \n",
       "-5659.600098  304.855011            NaN\n",
       "              304.864990            NaN\n",
       "              304.875000            NaN\n",
       "              304.885010            NaN\n",
       "              304.894989            NaN\n",
       "Name: hab, Length: 333000, dtype: float32"
      ]
     },
     "execution_count": 8,
     "metadata": {},
     "output_type": "execute_result"
    }
   ],
   "source": [
    "global_df.hab"
   ]
  }
 ],
 "metadata": {
  "kernelspec": {
   "display_name": "Python 3.11.3 ('arcticT')",
   "language": "python",
   "name": "python3"
  },
  "language_info": {
   "codemirror_mode": {
    "name": "ipython",
    "version": 3
   },
   "file_extension": ".py",
   "mimetype": "text/x-python",
   "name": "python",
   "nbconvert_exporter": "python",
   "pygments_lexer": "ipython3",
   "version": "3.11.3"
  },
  "orig_nbformat": 4,
  "vscode": {
   "interpreter": {
    "hash": "8dbe666d3ff0a912f7bf0b5ebf79f120d34d32fb27f825149a704cbc210e489f"
   }
  }
 },
 "nbformat": 4,
 "nbformat_minor": 2
}
